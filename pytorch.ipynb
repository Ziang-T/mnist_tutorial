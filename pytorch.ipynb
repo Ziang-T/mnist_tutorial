{
 "cells": [
  {
   "cell_type": "code",
   "execution_count": 2,
   "metadata": {},
   "outputs": [
    {
     "name": "stderr",
     "output_type": "stream",
     "text": [
      "100%|██████████| 468/468 [00:20<00:00, 22.33it/s]\n",
      "100%|██████████| 78/78 [00:01<00:00, 50.64it/s]\n",
      "  1%|          | 3/468 [00:00<00:16, 28.22it/s]"
     ]
    },
    {
     "name": "stdout",
     "output_type": "stream",
     "text": [
      "[Epoch: 1] Train Loss: 0.78177 Train Accuracy: 0.81916\n",
      "[Epoch: 1] Test Loss: 0.26786 Test Accuracy: 0.93640\n"
     ]
    },
    {
     "name": "stderr",
     "output_type": "stream",
     "text": [
      "100%|██████████| 468/468 [00:16<00:00, 28.80it/s]\n",
      "100%|██████████| 78/78 [00:01<00:00, 49.83it/s]\n",
      "  1%|          | 3/468 [00:00<00:18, 25.57it/s]"
     ]
    },
    {
     "name": "stdout",
     "output_type": "stream",
     "text": [
      "[Epoch: 2] Train Loss: 0.20573 Train Accuracy: 0.93919\n",
      "[Epoch: 2] Test Loss: 0.14152 Test Accuracy: 0.95613\n"
     ]
    },
    {
     "name": "stderr",
     "output_type": "stream",
     "text": [
      "100%|██████████| 468/468 [00:16<00:00, 28.79it/s]\n",
      "100%|██████████| 78/78 [00:01<00:00, 50.70it/s]\n",
      "  1%|          | 3/468 [00:00<00:17, 26.20it/s]"
     ]
    },
    {
     "name": "stdout",
     "output_type": "stream",
     "text": [
      "[Epoch: 3] Train Loss: 0.13001 Train Accuracy: 0.96090\n",
      "[Epoch: 3] Test Loss: 0.11392 Test Accuracy: 0.96464\n"
     ]
    },
    {
     "name": "stderr",
     "output_type": "stream",
     "text": [
      "100%|██████████| 468/468 [00:16<00:00, 28.64it/s]\n",
      "100%|██████████| 78/78 [00:01<00:00, 50.59it/s]\n",
      "  1%|          | 3/468 [00:00<00:16, 27.43it/s]"
     ]
    },
    {
     "name": "stdout",
     "output_type": "stream",
     "text": [
      "[Epoch: 4] Train Loss: 0.09690 Train Accuracy: 0.97032\n",
      "[Epoch: 4] Test Loss: 0.09452 Test Accuracy: 0.97185\n"
     ]
    },
    {
     "name": "stderr",
     "output_type": "stream",
     "text": [
      "100%|██████████| 468/468 [00:16<00:00, 28.37it/s]\n",
      "100%|██████████| 78/78 [00:01<00:00, 50.65it/s]\n",
      "  1%|          | 3/468 [00:00<00:17, 26.90it/s]"
     ]
    },
    {
     "name": "stdout",
     "output_type": "stream",
     "text": [
      "[Epoch: 5] Train Loss: 0.07809 Train Accuracy: 0.97641\n",
      "[Epoch: 5] Test Loss: 0.08488 Test Accuracy: 0.97266\n"
     ]
    },
    {
     "name": "stderr",
     "output_type": "stream",
     "text": [
      "100%|██████████| 468/468 [00:16<00:00, 28.33it/s]\n",
      "100%|██████████| 78/78 [00:01<00:00, 50.54it/s]\n",
      "  1%|          | 3/468 [00:00<00:17, 26.58it/s]"
     ]
    },
    {
     "name": "stdout",
     "output_type": "stream",
     "text": [
      "[Epoch: 6] Train Loss: 0.06381 Train Accuracy: 0.97998\n",
      "[Epoch: 6] Test Loss: 0.08479 Test Accuracy: 0.97346\n"
     ]
    },
    {
     "name": "stderr",
     "output_type": "stream",
     "text": [
      "100%|██████████| 468/468 [00:16<00:00, 28.14it/s]\n",
      "100%|██████████| 78/78 [00:01<00:00, 50.73it/s]\n",
      "  1%|          | 3/468 [00:00<00:17, 26.34it/s]"
     ]
    },
    {
     "name": "stdout",
     "output_type": "stream",
     "text": [
      "[Epoch: 7] Train Loss: 0.05369 Train Accuracy: 0.98319\n",
      "[Epoch: 7] Test Loss: 0.07350 Test Accuracy: 0.97726\n"
     ]
    },
    {
     "name": "stderr",
     "output_type": "stream",
     "text": [
      "100%|██████████| 468/468 [00:16<00:00, 28.09it/s]\n",
      "100%|██████████| 78/78 [00:01<00:00, 50.79it/s]\n",
      "  1%|          | 3/468 [00:00<00:16, 28.79it/s]"
     ]
    },
    {
     "name": "stdout",
     "output_type": "stream",
     "text": [
      "[Epoch: 8] Train Loss: 0.04488 Train Accuracy: 0.98533\n",
      "[Epoch: 8] Test Loss: 0.07410 Test Accuracy: 0.97796\n"
     ]
    },
    {
     "name": "stderr",
     "output_type": "stream",
     "text": [
      "100%|██████████| 468/468 [00:16<00:00, 28.09it/s]\n",
      "100%|██████████| 78/78 [00:01<00:00, 51.23it/s]\n",
      "  1%|          | 3/468 [00:00<00:17, 26.62it/s]"
     ]
    },
    {
     "name": "stdout",
     "output_type": "stream",
     "text": [
      "[Epoch: 9] Train Loss: 0.04136 Train Accuracy: 0.98683\n",
      "[Epoch: 9] Test Loss: 0.07132 Test Accuracy: 0.97786\n"
     ]
    },
    {
     "name": "stderr",
     "output_type": "stream",
     "text": [
      "100%|██████████| 468/468 [00:16<00:00, 27.98it/s]\n",
      "100%|██████████| 78/78 [00:01<00:00, 51.27it/s]"
     ]
    },
    {
     "name": "stdout",
     "output_type": "stream",
     "text": [
      "[Epoch: 10] Train Loss: 0.03562 Train Accuracy: 0.98835\n",
      "[Epoch: 10] Test Loss: 0.06808 Test Accuracy: 0.97827\n",
      "Training Accuracy: 98.83%\n",
      "Testing Accuracy: 97.83%\n"
     ]
    },
    {
     "name": "stderr",
     "output_type": "stream",
     "text": [
      "\n"
     ]
    }
   ],
   "source": [
    "import torch\n",
    "import torch.nn as nn\n",
    "import torch.utils.data as data\n",
    "import torchvision\n",
    "import torchvision.transforms as transforms\n",
    "from tqdm import tqdm\n",
    "from torch.autograd import Variable\n",
    "import time\n",
    "\n",
    "BATCH_SIZE = 128\n",
    "NUM_EPOCHS = 10\n",
    "\n",
    "# preprocessing\n",
    "normalize = transforms.Normalize(mean=[.5], std=[.5])\n",
    "transform = transforms.Compose([transforms.ToTensor(), normalize])\n",
    "\n",
    "# download and load the data\n",
    "train_dataset = torchvision.datasets.MNIST(root='./mnist/', train=True, transform=transform, download=True)\n",
    "test_dataset = torchvision.datasets.MNIST(root='./mnist/', train=False, transform=transform, download=False)\n",
    "\n",
    "# encapsulate them into dataloader form\n",
    "train_loader = data.DataLoader(train_dataset, batch_size=BATCH_SIZE, shuffle=True, drop_last=True)\n",
    "test_loader = data.DataLoader(test_dataset, batch_size=BATCH_SIZE, shuffle=False, drop_last=True)\n",
    "\n",
    "class SimpleNet(torch.nn.Module):\n",
    "    # TODO:define model\n",
    "    def __init__(self):\n",
    "        super(SimpleNet, self).__init__()\n",
    "        # self.hidden = torch.nn.Linear(784,548)   # hidden layer\n",
    "        # self.out = torch.nn.Linear(548,10)   # output layer\n",
    "        self.fc1 = nn.Linear(784, 576)\n",
    "        self.bc1 = nn.BatchNorm1d(576)\n",
    "\n",
    "        self.fc2 = nn.Linear(576, 324)\n",
    "        self.bc2 = nn.BatchNorm1d(324)\n",
    "\n",
    "        self.fc3 = nn.Linear(324, 144)\n",
    "        self.bc3 = nn.BatchNorm1d(144)\n",
    "\n",
    "        self.fc4 = nn.Linear(144, 10)\n",
    "\n",
    "    def forward(self, x):\n",
    "        # x = F.relu(self.hidden(x))      # activation function for hidden layer\n",
    "        # x = self.out(x)\n",
    "        # return x\n",
    "        x = x.view((-1, 784))\n",
    "        h = self.fc1(x)\n",
    "        h = self.bc1(h)\n",
    "        h = nn.functional.relu(h)\n",
    "        h = nn.functional.dropout(h, p=0.5, training=self.training)  \n",
    "\n",
    "        h = self.fc2(h)\n",
    "        h = self.bc2(h)\n",
    "        h = nn.functional.relu(h)\n",
    "        h = nn.functional.dropout(h, p=0.2, training=self.training)  \n",
    "\n",
    "        h = self.fc3(h)\n",
    "        h = self.bc3(h)\n",
    "        h = nn.functional.relu(h)\n",
    "        h = nn.functional.dropout(h, p=0.1, training=self.training)  \n",
    "\n",
    "        h = self.fc4(h)\n",
    "        out = nn.functional.log_softmax(h, dim=0)\n",
    "        return out\n",
    "\n",
    "model = SimpleNet()\n",
    "\n",
    "# TODO:define loss function and optimiter\n",
    "criterion = torch.nn.CrossEntropyLoss()\n",
    "optimizer = torch.optim.Adam(model.parameters(), lr=0.0001)\n",
    "\n",
    "# train and evaluate\n",
    "for epoch in range(NUM_EPOCHS):\n",
    "    train_loss = 0\n",
    "    train_acc = 0\n",
    "    for images, labels in tqdm(train_loader):\n",
    "        # TODO:forward + backward + optimize\n",
    "        optimizer.zero_grad()  \n",
    "        out = model(images)  \n",
    "        lossvalue = criterion(out, labels) \n",
    "        optimizer.zero_grad()  \n",
    "        lossvalue.backward()  \n",
    "        optimizer.step() \n",
    "\n",
    "        # 计算损失\n",
    "        train_loss += float(lossvalue)\n",
    "        # 计算精确度\n",
    "        _, pred = out.max(1)\n",
    "        num_correct = (pred == labels).sum()\n",
    "        acc = int(num_correct) / images.shape[0]\n",
    "        train_acc += acc\n",
    "        \n",
    "    # evaluate\n",
    "    # TODO:calculate the accuracy using traning and testing dataset\n",
    "    eval_loss = 0\n",
    "    eval_acc = 0\n",
    "    model.eval()  \n",
    "    for images, labels in tqdm(test_loader):\n",
    "        images = images.view(-1, 784)\n",
    "        testout = model(images)\n",
    "        testloss = criterion(testout, labels)\n",
    "        eval_loss += float(testloss)\n",
    "\n",
    "        _, pred = testout.max(1)\n",
    "        num_correct = (pred == labels).sum()\n",
    "        acc = int(num_correct) / images.shape[0]\n",
    "        eval_acc += acc\n",
    "        \n",
    "    train_loss = train_loss / len(train_loader)\n",
    "    train_acc = train_acc / len(train_loader)\n",
    "    eval_loss = eval_loss / len(test_loader)\n",
    "    eval_acc = eval_acc / len(test_loader)\n",
    "    print(\"[Epoch: %d] Train Loss: %5.5f Train Accuracy: %5.5f\" % (epoch + 1, train_loss, train_acc))\n",
    "    print(\"[Epoch: %d] Test Loss: %5.5f Test Accuracy: %5.5f\" % (epoch + 1, eval_loss, eval_acc))\n",
    "\n",
    "print('Training Accuracy: %.2f%%' % (train_acc * 100))\n",
    "print('Testing Accuracy: %.2f%%' % (eval_acc * 100))"
   ]
  },
  {
   "cell_type": "code",
   "execution_count": null,
   "metadata": {},
   "outputs": [],
   "source": []
  }
 ],
 "metadata": {
  "kernelspec": {
   "display_name": "Python 3",
   "language": "python",
   "name": "python3"
  },
  "language_info": {
   "codemirror_mode": {
    "name": "ipython",
    "version": 3
   },
   "file_extension": ".py",
   "mimetype": "text/x-python",
   "name": "python",
   "nbconvert_exporter": "python",
   "pygments_lexer": "ipython3",
   "version": "3.7.6"
  }
 },
 "nbformat": 4,
 "nbformat_minor": 1
}
